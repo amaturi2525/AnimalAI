{
 "cells": [
  {
   "cell_type": "code",
   "execution_count": 10,
   "metadata": {},
   "outputs": [],
   "source": [
    "from PIL import Image\n",
    "import os, glob\n",
    "import numpy as np\n",
    "from sklearn import cross_validation\n",
    "\n",
    "classes = [\"monkey\"]\n",
    "num_classes = len(classes)\n",
    "image_size = 50\n",
    "\n",
    "#画像の読み込み\n",
    "X = []\n",
    "Y = []\n",
    "for index, classlabel in enumerate(classes):\n",
    "    photos_dir = \"./animal_picture/\" + classlabel\n",
    "    files = glob.glob(photos_dir + \"/*.jpg\")\n",
    "    for i, file in enumerate(files):\n",
    "        if i >= 200:break\n",
    "        image = Image.open(file)\n",
    "        image = image.convert(\"RGB\")\n",
    "        image = image.resize((image_size, image_size))\n",
    "        data = np.asarray(image)\n",
    "        X.append(data)\n",
    "        Y.append(index)\n",
    "X = np.array(X)\n",
    "Y = np.array(Y)\n"
   ]
  },
  {
   "cell_type": "code",
   "execution_count": 11,
   "metadata": {},
   "outputs": [
    {
     "data": {
      "text/plain": [
       "array([[[ 35,  54,  26],\n",
       "        [ 28,  43,  10],\n",
       "        [ 31,  44,  18],\n",
       "        ...,\n",
       "        [ 48,  69,  54],\n",
       "        [ 47,  64,  46],\n",
       "        [ 43,  60,  42]],\n",
       "\n",
       "       [[ 41,  46,  26],\n",
       "        [ 33,  36,  17],\n",
       "        [ 35,  38,  27],\n",
       "        ...,\n",
       "        [ 44,  62,  48],\n",
       "        [ 43,  60,  42],\n",
       "        [ 35,  52,  34]],\n",
       "\n",
       "       [[ 42,  45,  26],\n",
       "        [ 33,  37,  23],\n",
       "        [ 34,  37,  30],\n",
       "        ...,\n",
       "        [ 39,  57,  41],\n",
       "        [ 44,  61,  42],\n",
       "        [ 41,  58,  39]],\n",
       "\n",
       "       ...,\n",
       "\n",
       "       [[109,  89,  64],\n",
       "        [106,  95,  67],\n",
       "        [116,  96,  71],\n",
       "        ...,\n",
       "        [ 14,  21,  13],\n",
       "        [  6,  29,   0],\n",
       "        [ 22,  28,  16]],\n",
       "\n",
       "       [[108,  90,  66],\n",
       "        [110,  94,  68],\n",
       "        [114,  92,  68],\n",
       "        ...,\n",
       "        [ 18,  29,  12],\n",
       "        [ 17,  28,  12],\n",
       "        [ 22,  33,  19]],\n",
       "\n",
       "       [[111,  93,  69],\n",
       "        [112,  96,  70],\n",
       "        [115,  93,  69],\n",
       "        ...,\n",
       "        [ 13,  24,   8],\n",
       "        [ 10,  20,   9],\n",
       "        [ 13,  23,  12]]], dtype=uint8)"
      ]
     },
     "execution_count": 11,
     "metadata": {},
     "output_type": "execute_result"
    }
   ],
   "source": [
    "X[0]"
   ]
  },
  {
   "cell_type": "code",
   "execution_count": null,
   "metadata": {},
   "outputs": [],
   "source": []
  }
 ],
 "metadata": {
  "kernelspec": {
   "display_name": "Python 3",
   "language": "python",
   "name": "python3"
  },
  "language_info": {
   "codemirror_mode": {
    "name": "ipython",
    "version": 3
   },
   "file_extension": ".py",
   "mimetype": "text/x-python",
   "name": "python",
   "nbconvert_exporter": "python",
   "pygments_lexer": "ipython3",
   "version": "3.7.0"
  }
 },
 "nbformat": 4,
 "nbformat_minor": 2
}
