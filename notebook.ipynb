{
 "cells": [
  {
   "cell_type": "code",
   "execution_count": 1,
   "metadata": {},
   "outputs": [],
   "source": [
    "from PIL import Image\n",
    "import os, glob\n",
    "import numpy as np\n",
    "from sklearn import model_selection\n",
    "\n",
    "classes = [\"monkey\",\"boar\"]\n",
    "num_classes = len(classes)\n",
    "image_size = 50\n",
    "\n",
    "#画像の読み込み\n",
    "X = []\n",
    "Y = []\n",
    "for index, classlabel in enumerate(classes):\n",
    "    photos_dir = \"./animal_picture/\" + classlabel\n",
    "    files = glob.glob(photos_dir + \"/*.jpg\")\n",
    "    for i, file in enumerate(files):\n",
    "        if i >= 200:\n",
    "            break\n",
    "        image = Image.open(file)\n",
    "        image = image.convert(\"RGB\")\n",
    "        image = image.resize((image_size, image_size))\n",
    "        data = np.asarray(image)\n",
    "        X.append(data)\n",
    "        Y.append(index)\n",
    "X = np.array(X)\n",
    "Y = np.array(Y)\n",
    "\n",
    "X_train, X_test, Y_train, Y_test = model_selection.train_test_split(X, Y)\n",
    "xy =(X_train, X_test, Y_train, Y_test)\n",
    "np.save(\"./animal.npy\", xy)\n"
   ]
  },
  {
   "cell_type": "code",
   "execution_count": 2,
   "metadata": {},
   "outputs": [
    {
     "data": {
      "text/plain": [
       "300"
      ]
     },
     "execution_count": 2,
     "metadata": {},
     "output_type": "execute_result"
    }
   ],
   "source": [
    "len(X_train)"
   ]
  },
  {
   "cell_type": "code",
   "execution_count": 3,
   "metadata": {},
   "outputs": [
    {
     "data": {
      "text/plain": [
       "100"
      ]
     },
     "execution_count": 3,
     "metadata": {},
     "output_type": "execute_result"
    }
   ],
   "source": [
    "len(X_test)"
   ]
  },
  {
   "cell_type": "code",
   "execution_count": 4,
   "metadata": {},
   "outputs": [
    {
     "data": {
      "text/plain": [
       "array([[[223, 212, 210],\n",
       "        [226, 214, 214],\n",
       "        [228, 218, 219],\n",
       "        ...,\n",
       "        [211, 192, 194],\n",
       "        [206, 190, 191],\n",
       "        [202, 186, 187]],\n",
       "\n",
       "       [[213, 201, 205],\n",
       "        [228, 216, 220],\n",
       "        [228, 216, 220],\n",
       "        ...,\n",
       "        [237, 222, 219],\n",
       "        [244, 229, 222],\n",
       "        [241, 226, 219]],\n",
       "\n",
       "       [[209, 194, 201],\n",
       "        [221, 208, 215],\n",
       "        [222, 210, 214],\n",
       "        ...,\n",
       "        [233, 219, 216],\n",
       "        [243, 228, 221],\n",
       "        [241, 226, 219]],\n",
       "\n",
       "       ...,\n",
       "\n",
       "       [[ 10,   8,   0],\n",
       "        [  5,   4,   9],\n",
       "        [ 19,  14,  20],\n",
       "        ...,\n",
       "        [127,  94,  75],\n",
       "        [131, 100,  80],\n",
       "        [135, 104,  84]],\n",
       "\n",
       "       [[  0,   2,   0],\n",
       "        [ 21,   7,   6],\n",
       "        [ 73,  54,  50],\n",
       "        ...,\n",
       "        [129, 102,  83],\n",
       "        [141, 109,  88],\n",
       "        [139, 106,  87]],\n",
       "\n",
       "       [[ 63,  51,  39],\n",
       "        [143, 120, 114],\n",
       "        [194, 169, 164],\n",
       "        ...,\n",
       "        [101,  74,  57],\n",
       "        [114,  83,  65],\n",
       "        [111,  80,  62]]], dtype=uint8)"
      ]
     },
     "execution_count": 4,
     "metadata": {},
     "output_type": "execute_result"
    }
   ],
   "source": [
    "X_train[100]"
   ]
  },
  {
   "cell_type": "code",
   "execution_count": 6,
   "metadata": {},
   "outputs": [
    {
     "data": {
      "text/plain": [
       "1"
      ]
     },
     "execution_count": 6,
     "metadata": {},
     "output_type": "execute_result"
    }
   ],
   "source": [
    "Y_train[0]"
   ]
  },
  {
   "cell_type": "code",
   "execution_count": 7,
   "metadata": {},
   "outputs": [
    {
     "data": {
      "text/plain": [
       "0"
      ]
     },
     "execution_count": 7,
     "metadata": {},
     "output_type": "execute_result"
    }
   ],
   "source": [
    "Y_train[200]"
   ]
  },
  {
   "cell_type": "code",
   "execution_count": null,
   "metadata": {},
   "outputs": [],
   "source": []
  }
 ],
 "metadata": {
  "kernelspec": {
   "display_name": "Python 3",
   "language": "python",
   "name": "python3"
  },
  "language_info": {
   "codemirror_mode": {
    "name": "ipython",
    "version": 3
   },
   "file_extension": ".py",
   "mimetype": "text/x-python",
   "name": "python",
   "nbconvert_exporter": "python",
   "pygments_lexer": "ipython3",
   "version": "3.7.0"
  }
 },
 "nbformat": 4,
 "nbformat_minor": 2
}
